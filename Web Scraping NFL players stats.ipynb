{
 "cells": [
  {
   "cell_type": "code",
   "execution_count": null,
   "id": "c1d26ee6",
   "metadata": {},
   "outputs": [],
   "source": [
    "import requests\n",
    "from bs4 import BeautifulSoup \n",
    "import pandas as pd\n",
    "import time"
   ]
  },
  {
   "cell_type": "code",
   "execution_count": 7,
   "id": "e1e6cdc5",
   "metadata": {},
   "outputs": [],
   "source": [
    "stats_cats = ['passing',\n",
    "              'rushing',\n",
    "              'recieving',\n",
    "              'fumbles',\n",
    "              'tackles',\n",
    "              'interceptions',\n",
    "              'feild_goals',\n",
    "              'kickoffs',\n",
    "              'kickoff_returns',\n",
    "              'puntings',\n",
    "              'punting_returns' ]\n",
    "stat_urls = ['passingyards/desc',\n",
    "              'rushingyards/desc',\n",
    "              'receivingreceptions/desc',\n",
    "              'defensiveforcedfumble/desc',\n",
    "              'defensivecombinetackles/desc',\n",
    "              'defensiveinterceptions/desc',\n",
    "              'kickingfgmade/desc',\n",
    "              'kickofftotal/desc',\n",
    "              'kickreturnsaverageyards/desc',\n",
    "              'puntingaverageyards/desc',\n",
    "              'puntreturnsaverageyards/desc',]"
   ]
  },
  {
   "cell_type": "code",
   "execution_count": 8,
   "id": "f85b7987",
   "metadata": {},
   "outputs": [
    {
     "name": "stdout",
     "output_type": "stream",
     "text": [
      "Choose:passing,rushing,recieving,fumbles,tackles,interceptions,feild_goals,kickoffs,kickoff_returns,puntings,punting_returnspassing\n",
      "Choose Year:2000\n"
     ]
    }
   ],
   "source": [
    "choice = input('Choose:passing,rushing,recieving,fumbles,tackles,interceptions,feild_goals,kickoffs,kickoff_returns,puntings,punting_returns')\n",
    "\n",
    "year = input('Choose Year:')"
   ]
  },
  {
   "cell_type": "code",
   "execution_count": 9,
   "id": "91016696",
   "metadata": {},
   "outputs": [
    {
     "name": "stdout",
     "output_type": "stream",
     "text": [
      "Atempting to send request to this url: https://www.nfl.com/stats/player-stats/category/passing/2000/reg/all/passingyards/desc\n"
     ]
    }
   ],
   "source": [
    "root = \"https://www.nfl.com\"\n",
    " \n",
    "urls_pieces1 = '/stats/player-stats/category/'\n",
    "\n",
    "urls_pieces2 = '/reg/all/'\n",
    "\n",
    "url = root + urls_pieces1 + choice + '/' + year + urls_pieces2 + stat_urls[stats_cats.index(choice)]\n",
    "\n",
    "headers = []\n",
    "\n",
    "data = []\n",
    "\n",
    "print('Atempting to send request to this url:', url)"
   ]
  },
  {
   "cell_type": "code",
   "execution_count": 10,
   "id": "26c3ed55",
   "metadata": {},
   "outputs": [
    {
     "ename": "NameError",
     "evalue": "name 'requests' is not defined",
     "output_type": "error",
     "traceback": [
      "\u001b[1;31m---------------------------------------------------------------------------\u001b[0m",
      "\u001b[1;31mNameError\u001b[0m                                 Traceback (most recent call last)",
      "\u001b[1;32m~\\AppData\\Local\\Temp/ipykernel_22992/1698422715.py\u001b[0m in \u001b[0;36m<module>\u001b[1;34m\u001b[0m\n\u001b[1;32m----> 1\u001b[1;33m \u001b[0mresponse\u001b[0m \u001b[1;33m=\u001b[0m \u001b[0mrequests\u001b[0m\u001b[1;33m.\u001b[0m\u001b[0mget\u001b[0m\u001b[1;33m(\u001b[0m\u001b[0murl\u001b[0m\u001b[1;33m)\u001b[0m\u001b[1;33m\u001b[0m\u001b[1;33m\u001b[0m\u001b[0m\n\u001b[0m\u001b[0;32m      2\u001b[0m \u001b[0mwebpage\u001b[0m \u001b[1;33m=\u001b[0m \u001b[0mresponse\u001b[0m\u001b[1;33m.\u001b[0m\u001b[0mcontent\u001b[0m\u001b[1;33m\u001b[0m\u001b[1;33m\u001b[0m\u001b[0m\n\u001b[0;32m      3\u001b[0m \u001b[0msoup\u001b[0m \u001b[1;33m=\u001b[0m \u001b[0mBeautifulSoup\u001b[0m\u001b[1;33m(\u001b[0m\u001b[0mwebpage\u001b[0m\u001b[1;33m,\u001b[0m \u001b[1;34m'html.parser'\u001b[0m\u001b[1;33m)\u001b[0m\u001b[1;33m\u001b[0m\u001b[1;33m\u001b[0m\u001b[0m\n",
      "\u001b[1;31mNameError\u001b[0m: name 'requests' is not defined"
     ]
    }
   ],
   "source": [
    "response = requests.get(url)\n",
    "webpage = response.content\n",
    "soup = BeautifulSoup(webpage, 'html.parser')"
   ]
  },
  {
   "cell_type": "code",
   "execution_count": null,
   "id": "3665187c",
   "metadata": {},
   "outputs": [],
   "source": [
    "table = soup.find('table',{'class' : 'd3-o-table d3-o-table--detailed d3-o-player-stats--detailed d3-o-table--sortable'})\n",
    "rows = table('tr')"
   ]
  },
  {
   "cell_type": "code",
   "execution_count": null,
   "id": "52fcb1c6",
   "metadata": {},
   "outputs": [],
   "source": [
    "for row in rows:\n",
    "    for tag in row:\n",
    "        \n",
    "        if tag.name == 'th':\n",
    "            headers.append(tag.get_text().strip())\n",
    "headers"
   ]
  },
  {
   "cell_type": "code",
   "execution_count": null,
   "id": "8b8cd20d",
   "metadata": {},
   "outputs": [],
   "source": [
    "link = soup.find('a', {'class': 'nfl-o-table-pagination__next'})"
   ]
  },
  {
   "cell_type": "code",
   "execution_count": null,
   "id": "6db57a41",
   "metadata": {},
   "outputs": [],
   "source": [
    "for row in rows:\n",
    "    our_row = []\n",
    "    for tag in row:\n",
    "        if tag.name == 'td':\n",
    "            our_row.append(tag.get_text().strip())\n",
    "    if our_row:\n",
    "        data.append(our_row)"
   ]
  },
  {
   "cell_type": "code",
   "execution_count": null,
   "id": "417f7893",
   "metadata": {},
   "outputs": [],
   "source": [
    "while link is not None:\n",
    "    next_url = root + link['href']\n",
    "    response = requests.get(next_url)\n",
    "    webpage = response.content\n",
    "    soup = BeautifulSoup(webpage, 'html.parser')\n",
    "    print(next_url)\n",
    "    link = soup.find('a', {'class': 'nfl-o-table-pagination__next'})\n",
    "    time.sleep(1)\n",
    "    table = soup.find('table',{'class' : 'd3-o-table d3-o-table--detailed d3-o-player-stats--detailed d3-o-table--sortable'})\n",
    "    rows = table('tr')\n",
    "    for row in rows:\n",
    "        cur_row = list()\n",
    "        for tag in row:\n",
    "            if tag.name == 'tr':\n",
    "                cur_row.append(tag.get_text().strip())\n",
    "        if cur_row:\n",
    "            data.append(cur_row)"
   ]
  },
  {
   "cell_type": "code",
   "execution_count": null,
   "id": "9af55c54",
   "metadata": {},
   "outputs": [],
   "source": [
    "stats = pd.DataFrame(data, columns = headers)"
   ]
  },
  {
   "cell_type": "code",
   "execution_count": null,
   "id": "402b46b5",
   "metadata": {},
   "outputs": [],
   "source": [
    "display(stats)"
   ]
  },
  {
   "cell_type": "code",
   "execution_count": null,
   "id": "2316f8d8",
   "metadata": {},
   "outputs": [],
   "source": [
    "stats.to_excel(choice + year + '.xlsx', index = False)"
   ]
  },
  {
   "cell_type": "code",
   "execution_count": null,
   "id": "1883f1a4",
   "metadata": {},
   "outputs": [],
   "source": [
    "import numpy as np\n",
    "import seaborn as sns\n",
    "import matplotlib.pyplot as plt\n",
    "%matplotlib inline"
   ]
  },
  {
   "cell_type": "code",
   "execution_count": null,
   "id": "32fc0fb7",
   "metadata": {},
   "outputs": [],
   "source": [
    "stats.isna().sum()"
   ]
  },
  {
   "cell_type": "code",
   "execution_count": null,
   "id": "0baa29f2",
   "metadata": {},
   "outputs": [],
   "source": [
    "from pandasgui import show"
   ]
  },
  {
   "cell_type": "code",
   "execution_count": null,
   "id": "ce1ebd18",
   "metadata": {},
   "outputs": [],
   "source": [
    "show(stats)"
   ]
  },
  {
   "cell_type": "code",
   "execution_count": null,
   "id": "b5176bfd",
   "metadata": {},
   "outputs": [],
   "source": []
  },
  {
   "cell_type": "code",
   "execution_count": null,
   "id": "3c00790d",
   "metadata": {},
   "outputs": [],
   "source": []
  },
  {
   "cell_type": "code",
   "execution_count": null,
   "id": "360edc68",
   "metadata": {},
   "outputs": [],
   "source": []
  },
  {
   "cell_type": "code",
   "execution_count": null,
   "id": "baf51d54",
   "metadata": {},
   "outputs": [],
   "source": []
  }
 ],
 "metadata": {
  "kernelspec": {
   "display_name": "Python 3 (ipykernel)",
   "language": "python",
   "name": "python3"
  },
  "language_info": {
   "codemirror_mode": {
    "name": "ipython",
    "version": 3
   },
   "file_extension": ".py",
   "mimetype": "text/x-python",
   "name": "python",
   "nbconvert_exporter": "python",
   "pygments_lexer": "ipython3",
   "version": "3.9.7"
  }
 },
 "nbformat": 4,
 "nbformat_minor": 5
}
